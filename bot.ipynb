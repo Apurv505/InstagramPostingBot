{
 "cells": [
  {
   "cell_type": "code",
   "execution_count": 2,
   "metadata": {},
   "outputs": [],
   "source": [
    "from selenium import webdriver\n",
    "from selenium.webdriver.support.wait import WebDriverWait as wait\n",
    "from selenium.webdriver.common.by import By\n",
    "from selenium.webdriver.support import expected_conditions as EC\n",
    "import settings\n",
    "from time import sleep\n",
    "import os\n",
    "from PIL import Image\n",
    "from io import BytesIO\n",
    "from selenium.webdriver.common.keys import Keys\n",
    "os.chdir(r'C:\\Users\\Apurv\\Documents\\GitHub\\UltimateInstaPostingBot')"
   ]
  },
  {
   "cell_type": "code",
   "execution_count": null,
   "metadata": {},
   "outputs": [],
   "source": []
  },
  {
   "cell_type": "code",
   "execution_count": 1,
   "metadata": {},
   "outputs": [
    {
     "ename": "NameError",
     "evalue": "name 'webdriver' is not defined",
     "output_type": "error",
     "traceback": [
      "\u001b[1;31m---------------------------------------------------------------------------\u001b[0m",
      "\u001b[1;31mNameError\u001b[0m                                 Traceback (most recent call last)",
      "\u001b[1;32m~\\AppData\\Local\\Temp/ipykernel_30200/538854611.py\u001b[0m in \u001b[0;36m<module>\u001b[1;34m\u001b[0m\n\u001b[1;32m----> 1\u001b[1;33m \u001b[0mdriver\u001b[0m \u001b[1;33m=\u001b[0m \u001b[0mwebdriver\u001b[0m\u001b[1;33m.\u001b[0m\u001b[0mFirefox\u001b[0m\u001b[1;33m(\u001b[0m\u001b[1;33m)\u001b[0m\u001b[1;33m\u001b[0m\u001b[1;33m\u001b[0m\u001b[0m\n\u001b[0m\u001b[0;32m      2\u001b[0m \u001b[0moptions\u001b[0m \u001b[1;33m=\u001b[0m \u001b[0mwebdriver\u001b[0m\u001b[1;33m.\u001b[0m\u001b[0mFirefoxOptions\u001b[0m\u001b[1;33m(\u001b[0m\u001b[1;33m)\u001b[0m\u001b[1;33m\u001b[0m\u001b[1;33m\u001b[0m\u001b[0m\n\u001b[0;32m      3\u001b[0m \u001b[1;33m\u001b[0m\u001b[0m\n\u001b[0;32m      4\u001b[0m \u001b[0mexecutor_url\u001b[0m \u001b[1;33m=\u001b[0m \u001b[0mdriver\u001b[0m\u001b[1;33m.\u001b[0m\u001b[0mcommand_executor\u001b[0m\u001b[1;33m.\u001b[0m\u001b[0m_url\u001b[0m\u001b[1;33m\u001b[0m\u001b[1;33m\u001b[0m\u001b[0m\n\u001b[0;32m      5\u001b[0m \u001b[0msession_id\u001b[0m \u001b[1;33m=\u001b[0m  \u001b[0mdriver\u001b[0m\u001b[1;33m.\u001b[0m\u001b[0msession_id\u001b[0m\u001b[1;33m\u001b[0m\u001b[1;33m\u001b[0m\u001b[0m\n",
      "\u001b[1;31mNameError\u001b[0m: name 'webdriver' is not defined"
     ]
    }
   ],
   "source": [
    "driver = webdriver.Firefox()\n",
    "options = webdriver.FirefoxOptions()\n",
    "\n",
    "executor_url = driver.command_executor._url\n",
    "session_id =  driver.session_id\n",
    "# driver.get(\"https://www.instagram.com\")\n",
    "\n",
    "print(executor_url, session_id)\n",
    "\n",
    "def create_driver_session(session_id, executor_url):\n",
    "    from selenium.webdriver.remote.webdriver import WebDriver as RemoteWebDriver\n",
    "\n",
    "    # Save the original function, so we can revert our patch\n",
    "    org_command_execute = RemoteWebDriver.execute\n",
    "\n",
    "    def new_command_execute(self, command, params=None):\n",
    "        if command == \"newSession\":\n",
    "            # Mock the response\n",
    "            return {'success':0, 'value': None, 'sessionId': session_id}\n",
    "        else:\n",
    "            return org_command_execute(self, command, params)\n",
    "\n",
    "    # Patch the function before creating the driver object\n",
    "    RemoteWebDriver.execute = new_command_execute\n",
    "\n",
    "    new_driver  = webdriver.Remote(command_executor=executor_url, desired_capabilities={})\n",
    "    new_driver.session_id = session_id\n",
    "\n",
    "    # Replace the patched function with original function\n",
    "    RemoteWebDriver.execute = org_command_execute\n",
    "    \n",
    "    return new_driver\n"
   ]
  },
  {
   "cell_type": "code",
   "execution_count": null,
   "metadata": {},
   "outputs": [],
   "source": [
    "driver.get(\"https://waterbilling.hsvphry.org.in/modules/ConsumerOnlinePayment.aspx\")\n"
   ]
  },
  {
   "cell_type": "code",
   "execution_count": 21,
   "metadata": {},
   "outputs": [],
   "source": [
    "driver.find_element(By.XPATH,'//*[@id=\"txtConnectionNumber\"]').send_keys(Keys.CONTROL, 'a')\n",
    "# driver.send_keys(Keys.CONTROL, 'a')"
   ]
  },
  {
   "cell_type": "code",
   "execution_count": 3,
   "metadata": {},
   "outputs": [
    {
     "name": "stdout",
     "output_type": "stream",
     "text": [
      "Waiting for username element to load\n",
      "yay\n",
      "Logging in\n",
      "Closing Save info popup not found.\n",
      "Inside check_for_notif_popup()\n",
      "No button found\n",
      "Fully logged in\n"
     ]
    }
   ],
   "source": [
    "def check_for_notif_popup():\n",
    "    print('Inside check_for_notif_popup()')\n",
    "    # alert = driver.switch_to.alert  # CHECK THIS OUT IN DOCS\n",
    "    try:\n",
    "            #For Turn on notifications popup\n",
    "            notif_css_selector = \"html.js.logged-in.client-root.js-focus-visible.sDN5V body div.RnEpo.Yx5HN div.pbNvD.fPMEg div._1XyCr div.piCib div.mt3GC button.aOOlW.HoLwm\"\n",
    "            wait(driver, 5).until(EC.element_to_be_clickable((By.CSS_SELECTOR, notif_css_selector)))\n",
    "            driver.find_element(By.CSS_SELECTOR, notif_css_selector).click()\n",
    "            print('Popup closed')\n",
    "    except:\n",
    "        print('No button found')\n",
    "        pass\n",
    "\n",
    "def launch_insta(session_id, executor_url):\n",
    "    driver.get(\"https://www.instagram.com\")\n",
    "\n",
    "    #Log in steps\n",
    "    \n",
    "    try:\n",
    "        print('Waiting for username element to load')\n",
    "        wait(driver, 5).until(EC.element_to_be_clickable((By.XPATH, \"//input[@name='username']\")))\n",
    "        print('yay')\n",
    "        username_element = driver.find_element(By.NAME, \"username\")\n",
    "        username_element.send_keys(settings.username)\n",
    "        sleep(1)\n",
    "        password_element = driver.find_element(By.NAME, \"password\")\n",
    "        password_element.send_keys(settings.password)\n",
    "        print('Logging in')\n",
    "        login_element =  driver.find_element(By.CSS_SELECTOR, \".L3NKy > div:nth-child(1)\")\n",
    "        login_element.click()\n",
    "        sleep(1)\n",
    "\n",
    "        # Save info popup\n",
    "        try:\n",
    "            #For Save login info popup\n",
    "            save_info_css_selector = \"button.sqdOP:nth-child(1)\"\n",
    "            sleep(3)\n",
    "            driver.find_element(By.CSS_SELECTOR, save_info_css_selector).click()\n",
    "            print('Closed Save info popup')\n",
    "        except:\n",
    "            print('Closing Save info popup not found.')\n",
    "    \n",
    "\n",
    "    except:\n",
    "        print('Checking for notifications popup, maybe already logged in. ')\n",
    "        # check_for_popup()\n",
    "        \n",
    "    check_for_notif_popup()\n",
    "    print('Fully logged in')\n",
    "\n",
    "launch_insta(session_id, executor_url)\n",
    "#TODO notification clear part not working, not rewuired but still\n",
    "#TODO modularize :D\n"
   ]
  },
  {
   "cell_type": "code",
   "execution_count": null,
   "metadata": {},
   "outputs": [],
   "source": [
    "def open_profile():\n",
    "    driver.get('https://www.instagram.com/nice.maymays/')\n",
    "\n",
    "def upload_post():\n",
    "    driver.find_element(By.CSS_SELECTOR, \".ZQScA > div:nth-child(1) > svg:nth-child(1)\").click()\n",
    "    driver.find_element(By.CSS_SELECTOR,\"button.sqdOP\").click()\n",
    "\n",
    "def open_tab(url):\n",
    "    driver.execute_script('''window.open('',\"_blank\");''')\n",
    "    driver.switch_to.window(driver.window_handles[-1])\n",
    "    driver.get(url)\n",
    "\n",
    "def close_tab(close_tab=-1, go_to_tab=0):\n",
    "    driver.switch_to.window(driver.window_handles[close_tab])\n",
    "    driver.close()\n",
    "    driver.switch_to.window(driver.window_handles[go_to_tab])"
   ]
  },
  {
   "cell_type": "code",
   "execution_count": 241,
   "metadata": {},
   "outputs": [],
   "source": [
    "driver.switch_to.window(driver.window_handles[-1])"
   ]
  },
  {
   "cell_type": "code",
   "execution_count": null,
   "metadata": {},
   "outputs": [],
   "source": [
    "open_profile()"
   ]
  },
  {
   "cell_type": "code",
   "execution_count": null,
   "metadata": {},
   "outputs": [],
   "source": [
    "close_tab()\n",
    "open_tab(\"https://www.tumblr.com/tagged/dark+academia?sort=top\")\n"
   ]
  },
  {
   "cell_type": "code",
   "execution_count": null,
   "metadata": {},
   "outputs": [],
   "source": [
    "png = driver.get_full_page_screenshot_as_png()"
   ]
  },
  {
   "cell_type": "code",
   "execution_count": null,
   "metadata": {},
   "outputs": [],
   "source": [
    "im = Image.open(BytesIO(png))\n",
    "im.save('orig.png')"
   ]
  },
  {
   "cell_type": "code",
   "execution_count": 304,
   "metadata": {},
   "outputs": [],
   "source": [
    "driver.switch_to.window(driver.window_handles[-1])"
   ]
  },
  {
   "cell_type": "code",
   "execution_count": 305,
   "metadata": {},
   "outputs": [],
   "source": [
    "elements = driver.find_elements(By.XPATH, \"//div[@class='vGkyT']\")\n"
   ]
  },
  {
   "cell_type": "code",
   "execution_count": 313,
   "metadata": {},
   "outputs": [],
   "source": [
    "element = elements[1]"
   ]
  },
  {
   "cell_type": "code",
   "execution_count": 284,
   "metadata": {},
   "outputs": [],
   "source": [
    "from selenium.webdriver import ActionChains, Keys\n"
   ]
  },
  {
   "cell_type": "code",
   "execution_count": 316,
   "metadata": {},
   "outputs": [
    {
     "ename": "TypeError",
     "evalue": "ActionChains.move_to_element() missing 1 required positional argument: 'to_element'",
     "output_type": "error",
     "traceback": [
      "\u001b[1;31m---------------------------------------------------------------------------\u001b[0m",
      "\u001b[1;31mTypeError\u001b[0m                                 Traceback (most recent call last)",
      "\u001b[1;32m~\\AppData\\Local\\Temp/ipykernel_14232/4242743316.py\u001b[0m in \u001b[0;36m<module>\u001b[1;34m\u001b[0m\n\u001b[0;32m      5\u001b[0m     \u001b[1;33m.\u001b[0m\u001b[0mperform\u001b[0m\u001b[1;33m(\u001b[0m\u001b[1;33m)\u001b[0m\u001b[1;33m\u001b[0m\u001b[1;33m\u001b[0m\u001b[0m\n\u001b[0;32m      6\u001b[0m \u001b[0mdriver\u001b[0m\u001b[1;33m.\u001b[0m\u001b[0mswitch_to\u001b[0m\u001b[1;33m.\u001b[0m\u001b[0mwindow\u001b[0m\u001b[1;33m(\u001b[0m\u001b[0mdriver\u001b[0m\u001b[1;33m.\u001b[0m\u001b[0mwindow_handles\u001b[0m\u001b[1;33m[\u001b[0m\u001b[1;33m-\u001b[0m\u001b[1;36m1\u001b[0m\u001b[1;33m]\u001b[0m\u001b[1;33m)\u001b[0m\u001b[1;33m\u001b[0m\u001b[1;33m\u001b[0m\u001b[0m\n\u001b[1;32m----> 7\u001b[1;33m \u001b[0mActionChains\u001b[0m\u001b[1;33m.\u001b[0m\u001b[0mmove_to_element\u001b[0m\u001b[1;33m(\u001b[0m\u001b[0melement\u001b[0m\u001b[1;33m)\u001b[0m\u001b[1;33m\u001b[0m\u001b[1;33m\u001b[0m\u001b[0m\n\u001b[0m",
      "\u001b[1;31mTypeError\u001b[0m: ActionChains.move_to_element() missing 1 required positional argument: 'to_element'"
     ]
    }
   ],
   "source": [
    "ActionChains(driver) \\\n",
    "    .key_down(Keys.CONTROL) \\\n",
    "    .click(element) \\\n",
    "    .key_up(Keys.CONTROL) \\\n",
    "    .perform()\n",
    "driver.switch_to.window(driver.window_handles[-1])\n",
    "ActionChains.move_to_element(element)"
   ]
  },
  {
   "cell_type": "code",
   "execution_count": 315,
   "metadata": {},
   "outputs": [
    {
     "ename": "MoveTargetOutOfBoundsException",
     "evalue": "Message: (139, -215) is out of bounds of viewport width (1038) and height (732)\nStacktrace:\nWebDriverError@chrome://remote/content/shared/webdriver/Errors.jsm:181:5\nMoveTargetOutOfBoundsError@chrome://remote/content/shared/webdriver/Errors.jsm:371:5\ndispatchPointerMove/<@chrome://remote/content/marionette/action.js:1383:13\ndispatchPointerMove@chrome://remote/content/marionette/action.js:1374:10\ntoEvents/<@chrome://remote/content/marionette/action.js:1145:16\naction.dispatchTickActions@chrome://remote/content/marionette/action.js:1055:35\naction.dispatch/chainEvents<@chrome://remote/content/marionette/action.js:1023:20\naction.dispatch@chrome://remote/content/marionette/action.js:1029:5\nperformActions@chrome://remote/content/marionette/actors/MarionetteCommandsChild.jsm:447:18\nreceiveMessage@chrome://remote/content/marionette/actors/MarionetteCommandsChild.jsm:141:31\n",
     "output_type": "error",
     "traceback": [
      "\u001b[1;31m---------------------------------------------------------------------------\u001b[0m",
      "\u001b[1;31mMoveTargetOutOfBoundsException\u001b[0m            Traceback (most recent call last)",
      "\u001b[1;32m~\\AppData\\Local\\Temp/ipykernel_14232/775734020.py\u001b[0m in \u001b[0;36m<module>\u001b[1;34m\u001b[0m\n\u001b[1;32m----> 1\u001b[1;33m \u001b[0mActionChains\u001b[0m\u001b[1;33m(\u001b[0m\u001b[0mdriver\u001b[0m\u001b[1;33m)\u001b[0m\u001b[1;33m.\u001b[0m\u001b[0mmove_to_element\u001b[0m\u001b[1;33m(\u001b[0m\u001b[0melement\u001b[0m\u001b[1;33m)\u001b[0m\u001b[1;33m.\u001b[0m\u001b[0mperform\u001b[0m\u001b[1;33m(\u001b[0m\u001b[1;33m)\u001b[0m\u001b[1;33m\u001b[0m\u001b[1;33m\u001b[0m\u001b[0m\n\u001b[0m",
      "\u001b[1;32mc:\\Users\\Apurv\\Documents\\GitHub\\UltimateInstaPostingBot\\env\\lib\\site-packages\\selenium\\webdriver\\common\\action_chains.py\u001b[0m in \u001b[0;36mperform\u001b[1;34m(self)\u001b[0m\n\u001b[0;32m     73\u001b[0m         \u001b[0mPerforms\u001b[0m \u001b[0mall\u001b[0m \u001b[0mstored\u001b[0m \u001b[0mactions\u001b[0m\u001b[1;33m.\u001b[0m\u001b[1;33m\u001b[0m\u001b[1;33m\u001b[0m\u001b[0m\n\u001b[0;32m     74\u001b[0m         \"\"\"\n\u001b[1;32m---> 75\u001b[1;33m         \u001b[0mself\u001b[0m\u001b[1;33m.\u001b[0m\u001b[0mw3c_actions\u001b[0m\u001b[1;33m.\u001b[0m\u001b[0mperform\u001b[0m\u001b[1;33m(\u001b[0m\u001b[1;33m)\u001b[0m\u001b[1;33m\u001b[0m\u001b[1;33m\u001b[0m\u001b[0m\n\u001b[0m\u001b[0;32m     76\u001b[0m \u001b[1;33m\u001b[0m\u001b[0m\n\u001b[0;32m     77\u001b[0m     \u001b[1;32mdef\u001b[0m \u001b[0mreset_actions\u001b[0m\u001b[1;33m(\u001b[0m\u001b[0mself\u001b[0m\u001b[1;33m)\u001b[0m\u001b[1;33m:\u001b[0m\u001b[1;33m\u001b[0m\u001b[1;33m\u001b[0m\u001b[0m\n",
      "\u001b[1;32mc:\\Users\\Apurv\\Documents\\GitHub\\UltimateInstaPostingBot\\env\\lib\\site-packages\\selenium\\webdriver\\common\\actions\\action_builder.py\u001b[0m in \u001b[0;36mperform\u001b[1;34m(self)\u001b[0m\n\u001b[0;32m     75\u001b[0m                 \u001b[0menc\u001b[0m\u001b[1;33m[\u001b[0m\u001b[1;34m\"actions\"\u001b[0m\u001b[1;33m]\u001b[0m\u001b[1;33m.\u001b[0m\u001b[0mappend\u001b[0m\u001b[1;33m(\u001b[0m\u001b[0mencoded\u001b[0m\u001b[1;33m)\u001b[0m\u001b[1;33m\u001b[0m\u001b[1;33m\u001b[0m\u001b[0m\n\u001b[0;32m     76\u001b[0m                 \u001b[0mdevice\u001b[0m\u001b[1;33m.\u001b[0m\u001b[0mactions\u001b[0m \u001b[1;33m=\u001b[0m \u001b[1;33m[\u001b[0m\u001b[1;33m]\u001b[0m\u001b[1;33m\u001b[0m\u001b[1;33m\u001b[0m\u001b[0m\n\u001b[1;32m---> 77\u001b[1;33m         \u001b[0mself\u001b[0m\u001b[1;33m.\u001b[0m\u001b[0mdriver\u001b[0m\u001b[1;33m.\u001b[0m\u001b[0mexecute\u001b[0m\u001b[1;33m(\u001b[0m\u001b[0mCommand\u001b[0m\u001b[1;33m.\u001b[0m\u001b[0mW3C_ACTIONS\u001b[0m\u001b[1;33m,\u001b[0m \u001b[0menc\u001b[0m\u001b[1;33m)\u001b[0m\u001b[1;33m\u001b[0m\u001b[1;33m\u001b[0m\u001b[0m\n\u001b[0m\u001b[0;32m     78\u001b[0m \u001b[1;33m\u001b[0m\u001b[0m\n\u001b[0;32m     79\u001b[0m     \u001b[1;32mdef\u001b[0m \u001b[0mclear_actions\u001b[0m\u001b[1;33m(\u001b[0m\u001b[0mself\u001b[0m\u001b[1;33m)\u001b[0m\u001b[1;33m:\u001b[0m\u001b[1;33m\u001b[0m\u001b[1;33m\u001b[0m\u001b[0m\n",
      "\u001b[1;32mc:\\Users\\Apurv\\Documents\\GitHub\\UltimateInstaPostingBot\\env\\lib\\site-packages\\selenium\\webdriver\\remote\\webdriver.py\u001b[0m in \u001b[0;36mexecute\u001b[1;34m(self, driver_command, params)\u001b[0m\n\u001b[0;32m    416\u001b[0m         \u001b[0mresponse\u001b[0m \u001b[1;33m=\u001b[0m \u001b[0mself\u001b[0m\u001b[1;33m.\u001b[0m\u001b[0mcommand_executor\u001b[0m\u001b[1;33m.\u001b[0m\u001b[0mexecute\u001b[0m\u001b[1;33m(\u001b[0m\u001b[0mdriver_command\u001b[0m\u001b[1;33m,\u001b[0m \u001b[0mparams\u001b[0m\u001b[1;33m)\u001b[0m\u001b[1;33m\u001b[0m\u001b[1;33m\u001b[0m\u001b[0m\n\u001b[0;32m    417\u001b[0m         \u001b[1;32mif\u001b[0m \u001b[0mresponse\u001b[0m\u001b[1;33m:\u001b[0m\u001b[1;33m\u001b[0m\u001b[1;33m\u001b[0m\u001b[0m\n\u001b[1;32m--> 418\u001b[1;33m             \u001b[0mself\u001b[0m\u001b[1;33m.\u001b[0m\u001b[0merror_handler\u001b[0m\u001b[1;33m.\u001b[0m\u001b[0mcheck_response\u001b[0m\u001b[1;33m(\u001b[0m\u001b[0mresponse\u001b[0m\u001b[1;33m)\u001b[0m\u001b[1;33m\u001b[0m\u001b[1;33m\u001b[0m\u001b[0m\n\u001b[0m\u001b[0;32m    419\u001b[0m             response['value'] = self._unwrap_value(\n\u001b[0;32m    420\u001b[0m                 response.get('value', None))\n",
      "\u001b[1;32mc:\\Users\\Apurv\\Documents\\GitHub\\UltimateInstaPostingBot\\env\\lib\\site-packages\\selenium\\webdriver\\remote\\errorhandler.py\u001b[0m in \u001b[0;36mcheck_response\u001b[1;34m(self, response)\u001b[0m\n\u001b[0;32m    241\u001b[0m                 \u001b[0malert_text\u001b[0m \u001b[1;33m=\u001b[0m \u001b[0mvalue\u001b[0m\u001b[1;33m[\u001b[0m\u001b[1;34m'alert'\u001b[0m\u001b[1;33m]\u001b[0m\u001b[1;33m.\u001b[0m\u001b[0mget\u001b[0m\u001b[1;33m(\u001b[0m\u001b[1;34m'text'\u001b[0m\u001b[1;33m)\u001b[0m\u001b[1;33m\u001b[0m\u001b[1;33m\u001b[0m\u001b[0m\n\u001b[0;32m    242\u001b[0m             \u001b[1;32mraise\u001b[0m \u001b[0mexception_class\u001b[0m\u001b[1;33m(\u001b[0m\u001b[0mmessage\u001b[0m\u001b[1;33m,\u001b[0m \u001b[0mscreen\u001b[0m\u001b[1;33m,\u001b[0m \u001b[0mstacktrace\u001b[0m\u001b[1;33m,\u001b[0m \u001b[0malert_text\u001b[0m\u001b[1;33m)\u001b[0m  \u001b[1;31m# type: ignore[call-arg]  # mypy is not smart enough here\u001b[0m\u001b[1;33m\u001b[0m\u001b[1;33m\u001b[0m\u001b[0m\n\u001b[1;32m--> 243\u001b[1;33m         \u001b[1;32mraise\u001b[0m \u001b[0mexception_class\u001b[0m\u001b[1;33m(\u001b[0m\u001b[0mmessage\u001b[0m\u001b[1;33m,\u001b[0m \u001b[0mscreen\u001b[0m\u001b[1;33m,\u001b[0m \u001b[0mstacktrace\u001b[0m\u001b[1;33m)\u001b[0m\u001b[1;33m\u001b[0m\u001b[1;33m\u001b[0m\u001b[0m\n\u001b[0m\u001b[0;32m    244\u001b[0m \u001b[1;33m\u001b[0m\u001b[0m\n\u001b[0;32m    245\u001b[0m     \u001b[1;32mdef\u001b[0m \u001b[0m_value_or_default\u001b[0m\u001b[1;33m(\u001b[0m\u001b[0mself\u001b[0m\u001b[1;33m,\u001b[0m \u001b[0mobj\u001b[0m\u001b[1;33m:\u001b[0m \u001b[0mMapping\u001b[0m\u001b[1;33m[\u001b[0m\u001b[0m_KT\u001b[0m\u001b[1;33m,\u001b[0m \u001b[0m_VT\u001b[0m\u001b[1;33m]\u001b[0m\u001b[1;33m,\u001b[0m \u001b[0mkey\u001b[0m\u001b[1;33m:\u001b[0m \u001b[0m_KT\u001b[0m\u001b[1;33m,\u001b[0m \u001b[0mdefault\u001b[0m\u001b[1;33m:\u001b[0m \u001b[0m_VT\u001b[0m\u001b[1;33m)\u001b[0m \u001b[1;33m->\u001b[0m \u001b[0m_VT\u001b[0m\u001b[1;33m:\u001b[0m\u001b[1;33m\u001b[0m\u001b[1;33m\u001b[0m\u001b[0m\n",
      "\u001b[1;31mMoveTargetOutOfBoundsException\u001b[0m: Message: (139, -215) is out of bounds of viewport width (1038) and height (732)\nStacktrace:\nWebDriverError@chrome://remote/content/shared/webdriver/Errors.jsm:181:5\nMoveTargetOutOfBoundsError@chrome://remote/content/shared/webdriver/Errors.jsm:371:5\ndispatchPointerMove/<@chrome://remote/content/marionette/action.js:1383:13\ndispatchPointerMove@chrome://remote/content/marionette/action.js:1374:10\ntoEvents/<@chrome://remote/content/marionette/action.js:1145:16\naction.dispatchTickActions@chrome://remote/content/marionette/action.js:1055:35\naction.dispatch/chainEvents<@chrome://remote/content/marionette/action.js:1023:20\naction.dispatch@chrome://remote/content/marionette/action.js:1029:5\nperformActions@chrome://remote/content/marionette/actors/MarionetteCommandsChild.jsm:447:18\nreceiveMessage@chrome://remote/content/marionette/actors/MarionetteCommandsChild.jsm:141:31\n"
     ]
    }
   ],
   "source": [
    "ActionChains(driver).move_to_element(element).perform()"
   ]
  },
  {
   "cell_type": "code",
   "execution_count": 301,
   "metadata": {},
   "outputs": [
    {
     "name": "stdout",
     "output_type": "stream",
     "text": [
      "491 564 993.0 1130.5166625976562\n"
     ]
    }
   ],
   "source": [
    "# close_tab()\n",
    "# driver.switch_to.window(driver.window_handles[-1])\n",
    "\n",
    "\n",
    "elementXpath = f'/html/body/section/section/div/div[1]/article'\n",
    "\n",
    "post = driver.find_element(By.XPATH,elementXpath)\n",
    "\n",
    "png = driver.get_screenshot_as_png()\n",
    "\n",
    "size, location = post.size, post.location\n",
    "\n",
    "left = location['x'] \n",
    "top = location['y'] \n",
    "right = location['x'] +size['width']  \n",
    "bottom = location['y'] + size['height'] \n",
    "\n",
    "print(left, top, right, bottom)\n",
    "\n",
    "im = Image.open(BytesIO(png))\n",
    "im.save('orig.png')\n",
    "\n",
    "im_new = im.crop((left, top, right, bottom))\n",
    "im_new.save('ss.png')"
   ]
  },
  {
   "cell_type": "code",
   "execution_count": 224,
   "metadata": {},
   "outputs": [
    {
     "data": {
      "text/plain": [
       "({'height': 566.5166625976562, 'width': 502.0}, {'x': 241, 'y': 564})"
      ]
     },
     "execution_count": 224,
     "metadata": {},
     "output_type": "execute_result"
    }
   ],
   "source": [
    "elementXpath = f'/html/body/section/section/div/div[1]/article'\n",
    "post = driver.find_element(By.XPATH,elementXpath)\n",
    "post.size, post.location"
   ]
  },
  {
   "cell_type": "code",
   "execution_count": 219,
   "metadata": {},
   "outputs": [
    {
     "data": {
      "text/plain": [
       "({'height': 566.5166625976562, 'width': 502.0}, {'x': 241, 'y': 564})"
      ]
     },
     "execution_count": 219,
     "metadata": {},
     "output_type": "execute_result"
    }
   ],
   "source": [
    "post.size, post.location"
   ]
  },
  {
   "cell_type": "code",
   "execution_count": null,
   "metadata": {},
   "outputs": [],
   "source": [
    "241 564 743.0 1130.5166625976562"
   ]
  },
  {
   "cell_type": "code",
   "execution_count": 186,
   "metadata": {},
   "outputs": [],
   "source": [
    "elementXpath= f'/html/body/div/div/div[2]/div[2]/div/main/div/div/div[2]/div[1]/div/div/article'\n",
    "post = driver.find_element(By.XPATH,elementXpath)\n",
    "action = webdriver.ActionChains(driver)\n",
    "action.move_to_element(post)\n",
    "action.perform()"
   ]
  },
  {
   "cell_type": "code",
   "execution_count": null,
   "metadata": {},
   "outputs": [],
   "source": [
    "\n",
    "for post_no in range(1,5, 1):\n",
    "    \n",
    "    elementXpath= f'/html/body/div/div/div[2]/div[2]/div[1]/main/div/div/div[2]/div[1]/div[1]/div/div/div/article'\n",
    "    post = driver.find_element(By.XPATH,elementXpath)\n",
    "\n",
    "    size, location = post.size, post.location\n",
    "\n",
    "    left = location['x'] + 25\n",
    "    top = location['y']  + 30 + (post_no-1)*130\n",
    "    right = location['x'] + size['width'] + 130\n",
    "    bottom = location['y'] + size['height'] + 100\n",
    "\n",
    "    print(left, top, right, bottom)\n",
    "\n",
    "\n",
    "    im_new = im.crop((left, top, right, bottom))\n",
    "    im_new.save(f'ss{post_no}.png')"
   ]
  },
  {
   "cell_type": "code",
   "execution_count": null,
   "metadata": {},
   "outputs": [],
   "source": [
    "post.size, post.location"
   ]
  },
  {
   "cell_type": "code",
   "execution_count": null,
   "metadata": {},
   "outputs": [],
   "source": [
    "left, top, right, bottom"
   ]
  },
  {
   "cell_type": "code",
   "execution_count": null,
   "metadata": {},
   "outputs": [],
   "source": [
    "html = driver.execute_script(\"return arguments[0].innerHTML;\", my_element)"
   ]
  },
  {
   "cell_type": "code",
   "execution_count": null,
   "metadata": {},
   "outputs": [],
   "source": [
    "<div class=\"IGdYk Jr_En\" tabindex=\"-1\" data-id=\"666996617887531008\"><div class=\"pDYwz\" tabindex=\"-1\"><div class=\"g8sNN\"><div class=\"AdXv8\"></div><div class=\"AdXv8\"></div><article class=\"_wQJ_\"><header role=\"banner\" class=\"zpvsE\" aria-label=\"Posted by ashberrry\"><div class=\"qJK3b\"><div class=\"_adgg\" role=\"figure\" aria-label=\"avatar\"><a href=\"https://ashberrry.tumblr.com/\" title=\"ashberrry\" target=\"_blank\" rel=\"noopener\" role=\"link\" class=\"hlOCn\"><div class=\"_qyx_\" style=\"width: 38px; height: 38px;\"><div class=\"p5lN8 tjtXk\"><div class=\"_f4WT\" style=\"padding-bottom: 100%;\"><img class=\"CoZcM\" srcset=\"https://64.media.tumblr.com/385321406267b303ed71566e318b76db/68e5c1b6f132d845-83/s64x64u_c1/3dd0c4864f5b8325ff5244943e8d8da8b4208947.jpg 64w, https://64.media.tumblr.com/385321406267b303ed71566e318b76db/68e5c1b6f132d845-83/s96x96u_c1/a9ddc693b367af2fe281f6ed3ecb40138848b296.jpg 96w, https://64.media.tumblr.com/385321406267b303ed71566e318b76db/68e5c1b6f132d845-83/s128x128u_c1/c93f8f3cb0f21ea3be40f06579d96789ba728bdc.jpg 128w, https://64.media.tumblr.com/385321406267b303ed71566e318b76db/68e5c1b6f132d845-83/s512x512u_c1/0198efa699e291cf0118e66c0ca5c13d899cef42.jpg 512w\" sizes=\"38px\" alt=\"Avatar\" style=\"width: 38px; height: 38px;\" loading=\"eager\"></div></div></div></a></div></div><div class=\"dqZs7 lEW71\"><div class=\"_K9Lu\"><div class=\"eCLT_\"><div class=\"RDt_e\"><div class=\"t5gjn\"><a href=\"https://ashberrry.tumblr.com/post/666996617887531008/the-year-is-ending-and-ive-lost-my-sanity\" target=\"_blank\" rel=\"noopener\" role=\"link\" class=\"hlOCn\">ashberrry</a></div></div><a class=\"Lrn5N LO6UQ mhjs0\" href=\"/register?redirect_to=%2Ftagged%2Fdark%2Bacademia&amp;source=hubs_blog_follow\">Follow</a></div><div class=\"QV8Z2\"></div></div><div class=\"sstBX\"><span><span class=\"jr7pM\"><span class=\"jr7pM\"><button class=\"xBRdB\" aria-label=\"More options\" tabindex=\"0\"><span class=\"vq1BT\" tabindex=\"-1\"><svg viewBox=\"0 0 17.5 3.9\" style=\"transform: rotate(0deg);\" width=\"18\" height=\"10\" fill=\"rgba(var(--black), 0.65)\"><path d=\"M17.5 1.9c0 1.1-.9 1.9-1.9 1.9-1.1 0-1.9-.9-1.9-1.9S14.5 0 15.6 0c1 0 1.9.9 1.9 1.9m-6.8 0c0 1.1-.9 1.9-1.9 1.9-1.1.1-2-.8-2-1.9 0-1 .9-1.9 2-1.9s1.9.9 1.9 1.9m-6.8 0c0 1.1-.9 2-2 2-1 0-1.9-.9-1.9-2S.9 0 1.9 0c1.1 0 2 .9 2 1.9\"></path></svg></span></button></span></span></span></div></div></header><div class=\"o31o6\" style=\"\"><div><div class=\"kBP3A\"><div class=\"shgTR\"><p>The year is ending and I've lost my sanity</p></div></div></div></div><div class=\"icDHu\"><div class=\"YuqL0 D2w1E\"><div><a href=\"/tagged/dark+academia?sort=top\" class=\"VE9Vw\">#dark academia</a><a class=\"VE9Vw\" href=\"/tagged/nostalgia?sort=top\">#nostalgia</a><a class=\"VE9Vw\" href=\"/tagged/fiction?sort=top\">#fiction</a><a class=\"VE9Vw\" href=\"/tagged/quotes?sort=top\">#quotes</a><a class=\"VE9Vw\" href=\"/tagged/quoteoftheday?sort=top\">#quoteoftheday</a><a class=\"VE9Vw\" href=\"/tagged/love?sort=top\">#love</a><a class=\"VE9Vw\" href=\"/tagged/aesthetic?sort=top\">#aesthetic</a><a class=\"VE9Vw\" href=\"/tagged/literature?sort=top\">#literature</a><a class=\"VE9Vw\" href=\"/tagged/dark+acadamia+aesthetic?sort=top\">#dark acadamia aesthetic</a><a class=\"VE9Vw\" href=\"/tagged/light+academia?sort=top\">#light academia</a><a class=\"VE9Vw\" href=\"/tagged/light+acadamia+aesthetic?sort=top\">#light acadamia aesthetic</a><a class=\"VE9Vw\" href=\"/tagged/poets+on+tumblr?sort=top\">#poets on tumblr</a><a class=\"VE9Vw\" href=\"/tagged/poetry?sort=top\">#poetry</a><a class=\"VE9Vw\" href=\"/tagged/moodboard?sort=top\">#moodboard</a><a class=\"VE9Vw\" href=\"/tagged/romanticisation?sort=top\">#romanticisation</a><a class=\"VE9Vw\" href=\"/tagged/romanticism?sort=top\">#romanticism</a><a class=\"z1SjW\" role=\"button\">… <span class=\"_XAsx\">See all</span></a></div></div><footer role=\"contentinfo\" aria-label=\"Post Footer\" class=\"l3fvI\"><div class=\"b_8BR\"><span class=\"jr7pM\"><span class=\"jr7pM\"><button class=\"xBRdB _91ZJ\" aria-label=\"Activity\" tabindex=\"0\"><span class=\"vq1BT _5a6Z\" tabindex=\"-1\"><span class=\"YksP1\"><span>319 notes</span></span></span></button></span></span></div><div class=\"aTcbY\"><div class=\"_PKfi\"><span class=\"jr7pM\" style=\"vertical-align: middle;\"><span class=\"jr7pM\"><button class=\"xBRdB\" aria-label=\"Share\" tabindex=\"0\"><span class=\"vq1BT\" tabindex=\"-1\"><svg width=\"24\" height=\"24\" viewBox=\"0 0 24 24\" fill=\"rgba(var(--black), 0.65)\"><path d=\"M12.6173 1.07612C12.991 0.921338 13.4211 1.00689 13.7071 1.29289L22.7071 10.2929C23.0832 10.669 23.0991 11.2736 22.7433 11.669L13.7433 21.669C13.4663 21.9767 13.0283 22.082 12.6417 21.9336C12.2552 21.7853 12 21.414 12 21V16H11.5C7.31775 16 3.92896 18.2486 2.95256 21.3044C2.80256 21.7738 2.33292 22.064 1.84598 21.9881C1.35904 21.9122 1 21.4928 1 21V18.5C1 12.3162 5.88069 7.27245 12 7.01067V2C12 1.59554 12.2436 1.2309 12.6173 1.07612ZM14 4.41421V8C14 8.55228 13.5523 9 13 9H12.5C7.64534 9 3.64117 12.6414 3.06988 17.3419C5.09636 15.2366 8.18218 14 11.5 14H13C13.5523 14 14 14.4477 14 15V18.394L20.622 11.0362L14 4.41421Z\"></path></svg></span></button></span></span></div></div></footer></div></article></div></div></div>"
   ]
  },
  {
   "cell_type": "code",
   "execution_count": null,
   "metadata": {},
   "outputs": [],
   "source": [
    "print(html)"
   ]
  },
  {
   "cell_type": "code",
   "execution_count": null,
   "metadata": {},
   "outputs": [],
   "source": [
    "close_tab(1,0)"
   ]
  },
  {
   "cell_type": "code",
   "execution_count": null,
   "metadata": {},
   "outputs": [],
   "source": [
    "import autoit\n",
    "\n",
    "autoit.control_focus('File Upload','')\n",
    "autoit.control_set_text('File Upload', 'Edit1', r'C:\\Users\\Apurv\\Documents\\GitHub\\UltimateInstaPostingBot\\pics' )\n",
    "autoit.control_click('File Upload','Button1' )"
   ]
  },
  {
   "cell_type": "code",
   "execution_count": null,
   "metadata": {},
   "outputs": [],
   "source": []
  },
  {
   "cell_type": "code",
   "execution_count": null,
   "metadata": {},
   "outputs": [],
   "source": [
    "import requests\n",
    "import json\n",
    "from bs4 import BeautifulSoup"
   ]
  },
  {
   "cell_type": "code",
   "execution_count": null,
   "metadata": {},
   "outputs": [],
   "source": [
    "user_agent = 'Mozilla/5.0 (Windows NT 10.0; Win64; x64) AppleWebKit/537.36 (KHTML, like Gecko) Chrome/95.0.4638.54 Safari/537.36'\n",
    "headers = {'User-Agent': user_agent, }\n",
    "url = 'https://www.tumblr.com/tagged/dark+academia?sort=top'\n",
    "# url = 'https://9gag.com/gag/aZrP51X/'\n",
    "response_html = requests.get(url, headers=headers)\n",
    "print(response_html.text)\n",
    "\n"
   ]
  },
  {
   "cell_type": "code",
   "execution_count": null,
   "metadata": {},
   "outputs": [],
   "source": [
    "from bs4 import BeautifulSoup\n",
    "import requests\n",
    "\n",
    "user_agent = 'Mozilla/5.0 (Windows NT 10.0; Win64; x64) AppleWebKit/537.36 (KHTML, like Gecko) Chrome/95.0.4638.54 Safari/537.36'\n",
    "headers = {'User-Agent': user_agent, }\n",
    "\n",
    "url = 'https://www.tumblr.com/tagged/dark+academia?sort=top/'\n",
    "html_doc = requests.get(url, headers=headers)\n",
    "# html_doc.content\n",
    "\n",
    "soup = BeautifulSoup(html_doc.content, 'html.parser')\n",
    "\n",
    "\n"
   ]
  },
  {
   "cell_type": "code",
   "execution_count": null,
   "metadata": {},
   "outputs": [],
   "source": [
    "import pytumblr\n",
    "\n",
    "key = 'o8egnSXQAZ1FnU8RQlugggOnasy0Hdbxk4PPWuwrGe7XiSQ40r'\n",
    "secret = 'Ina6oWJimHBnhYVezLm2bYHRJIVmGlwDjmBBtHRGEAvlFOGukU'\n",
    "offset = None\n",
    "client  = pytumblr.TumblrRestClient(key, consumer_secret=secret )\n",
    "# data = client.posts('codingjester', limit=False, offset = offset, reblog_info= False, notes_info = False)\n",
    "data = client.tagged('dark academia')\n"
   ]
  },
  {
   "cell_type": "code",
   "execution_count": null,
   "metadata": {},
   "outputs": [],
   "source": [
    "data"
   ]
  },
  {
   "cell_type": "code",
   "execution_count": null,
   "metadata": {},
   "outputs": [],
   "source": [
    "len(data)"
   ]
  },
  {
   "cell_type": "code",
   "execution_count": null,
   "metadata": {},
   "outputs": [],
   "source": [
    "listofposts = data['posts']\n"
   ]
  },
  {
   "cell_type": "code",
   "execution_count": null,
   "metadata": {},
   "outputs": [],
   "source": [
    "listofposts[0]"
   ]
  },
  {
   "cell_type": "code",
   "execution_count": null,
   "metadata": {},
   "outputs": [],
   "source": [
    "listofposts[7]"
   ]
  },
  {
   "cell_type": "code",
   "execution_count": null,
   "metadata": {},
   "outputs": [],
   "source": [
    "def save_pic_from_post(listofposts, img_no):\n",
    "    print(f'pic number {img_no}')\n",
    "    postdata = listofposts[img_no]\n",
    "    photos = postdata['photos']\n",
    "    url = (photos[0])['original_size']['url']\n",
    "    import os \n",
    "    import requests\n",
    "\n",
    "    page = requests.get(url)\n",
    "    os.chdir(r'C:\\Users\\Apurv\\Documents\\GitHub\\UltimateInstaPostingBot\\pics')\n",
    "    f_ext = os.path.splitext(url)[-1]\n",
    "    f_name = 'img{}{}'.format(i,f_ext)\n",
    "    with open(f_name, 'wb') as f:\n",
    "        f.write(page.content)\n",
    "\n",
    "img_no=0\n",
    "try:\n",
    "    for img_no in range(len(listofposts)):\n",
    "    \n",
    "        save_pic_from_post(listofposts, img_no)\n",
    "\n",
    "\n",
    "        \n",
    "except KeyError:\n",
    "    print('No Image Found! \\\n",
    "        Cheking next post...')\n",
    "    save_pic_from_post(listofposts,img_no+1)"
   ]
  },
  {
   "cell_type": "code",
   "execution_count": null,
   "metadata": {},
   "outputs": [],
   "source": [
    "os.chdir('pics')"
   ]
  },
  {
   "cell_type": "code",
   "execution_count": null,
   "metadata": {},
   "outputs": [],
   "source": [
    "from selenium import webdriver\n",
    "from selenium.webdriver.support.wait import WebDriverWait as wait\n",
    "from selenium.webdriver.common.by import By\n",
    "from selenium.webdriver.support import expected_conditions as EC\n",
    "import settings\n",
    "from time import sleep\n",
    "import os"
   ]
  },
  {
   "cell_type": "code",
   "execution_count": null,
   "metadata": {},
   "outputs": [],
   "source": [
    "driver = webdriver.Firefox()"
   ]
  },
  {
   "cell_type": "code",
   "execution_count": null,
   "metadata": {},
   "outputs": [],
   "source": [
    "\n",
    "name = []\n",
    "price = []\n",
    "descr=[]\n",
    "\n",
    "# pg_no = driver.find_element_by_xpath(\"//nav[@class='yFHi8N']/a[2]\").text\n",
    "# if pg_no == \"1\":\n",
    "url = \"https://www.flipkart.com/\"\n",
    "driver.get(url)\n",
    "sleep(4)\n",
    "\n",
    "\n",
    "\n",
    "\n",
    "# url = \"https://www.flipkart.com/\"\n",
    "# driver.get(url)\n",
    "# sleep(4)\n",
    "# click_oncross = driver.find_element_by_xpath(\"//div[@class='_2QfC02']/button[1]\")   #comment this if running the same chrome window since 1st question\n",
    "# click_oncross.click()                                                               #comment this if running the same chrome window since 1st question\n",
    "# sleep(4)\n",
    "# search_prod = driver.find_element_by_xpath(\"//div[@class='_3OO5Xc']/input[1]\")\n",
    "# search_prod.send_keys(\"Sunglasses\")\n",
    "# search_btn "
   ]
  },
  {
   "cell_type": "code",
   "execution_count": null,
   "metadata": {},
   "outputs": [],
   "source": [
    "driver.find_elements_by_xpath(\"//div[@class='_1xHGtK _373qXS']/div[@class='_2B099V']/div[1]\")"
   ]
  },
  {
   "cell_type": "code",
   "execution_count": null,
   "metadata": {},
   "outputs": [],
   "source": []
  }
 ],
 "metadata": {
  "interpreter": {
   "hash": "d2f51b763dda9008302dbbf975b4b42b64bf37235601b39c291b00c4bb39339b"
  },
  "kernelspec": {
   "display_name": "Python 3.10.0 64-bit ('env': venv)",
   "name": "python3"
  },
  "language_info": {
   "codemirror_mode": {
    "name": "ipython",
    "version": 3
   },
   "file_extension": ".py",
   "mimetype": "text/x-python",
   "name": "python",
   "nbconvert_exporter": "python",
   "pygments_lexer": "ipython3",
   "version": "3.10.0"
  },
  "orig_nbformat": 4
 },
 "nbformat": 4,
 "nbformat_minor": 2
}
